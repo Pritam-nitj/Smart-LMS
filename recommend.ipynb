{
 "cells": [
  {
   "cell_type": "code",
   "execution_count": 1,
   "metadata": {},
   "outputs": [
    {
     "name": "stderr",
     "output_type": "stream",
     "text": [
      "\u001b[33m * Tip: There are .env or .flaskenv files present. Do \"pip install python-dotenv\" to use them.\u001b[0m\n"
     ]
    },
    {
     "name": "stdout",
     "output_type": "stream",
     "text": [
      " * Serving Flask app '__main__'\n",
      " * Debug mode: off\n"
     ]
    },
    {
     "name": "stderr",
     "output_type": "stream",
     "text": [
      "WARNING: This is a development server. Do not use it in a production deployment. Use a production WSGI server instead.\n",
      " * Running on http://127.0.0.1:5000\n",
      "Press CTRL+C to quit\n",
      "127.0.0.1 - - [11/Jul/2025 13:27:44] \"POST /recommend HTTP/1.1\" 200 -\n",
      "127.0.0.1 - - [11/Jul/2025 13:29:12] \"POST /recommend HTTP/1.1\" 200 -\n"
     ]
    }
   ],
   "source": [
    "import pymongo\n",
    "import pandas as pd\n",
    "from flask import Flask, request, jsonify\n",
    "from sklearn.feature_extraction.text import TfidfVectorizer\n",
    "from sklearn.metrics.pairwise import cosine_similarity\n",
    "from bson import ObjectId\n",
    "\n",
    "app = Flask(__name__)\n",
    "\n",
    "# Connect to MongoDB\n",
    "client = pymongo.MongoClient('mongodb://localhost:27017/')\n",
    "db = client['LMS']\n",
    "collection = db['books']\n",
    "\n",
    "# Fetch data\n",
    "books = list(collection.find())\n",
    "df = pd.DataFrame(books)\n",
    "\n",
    "# Preprocess data\n",
    "df['features'] = df['desc']   # Use 'desc' for keyword features\n",
    "vectorizer = TfidfVectorizer()\n",
    "feature_matrix = vectorizer.fit_transform(df['features'])\n",
    "cosine_sim = cosine_similarity(feature_matrix, feature_matrix)\n",
    "\n",
    "\n",
    "# Function to convert ObjectId to string\n",
    "def convert_objectid_to_str(data):\n",
    "    if isinstance(data, ObjectId):\n",
    "        return str(data)\n",
    "    return data\n",
    "\n",
    "# Improved recommendation function with self-match included\n",
    "def get_recommendations(keyword, number, cosine_sim=cosine_sim):\n",
    "    # Find exact match indices for the keyword in 'desc'\n",
    "    matching_indices = df[df['desc'].str.contains(keyword, case=False, na=False)].index\n",
    "\n",
    "    if not matching_indices.empty:\n",
    "        # If exact match found, proceed with similarity-based recommendations\n",
    "        idx = matching_indices[0]  # Using the first matching index\n",
    "        sim_scores = list(enumerate(cosine_sim[idx]))\n",
    "    else:\n",
    "        # If no exact match, calculate similarity between keyword and entire 'desc' column\n",
    "        keyword_vector = vectorizer.transform([keyword])\n",
    "        sim_scores = list(enumerate(cosine_similarity(keyword_vector, feature_matrix)[0]))\n",
    "\n",
    "    # Sort and get top recommendations, including self-match\n",
    "    sim_scores = sorted(sim_scores, key=lambda x: x[1], reverse=True)\n",
    "    sim_scores = sim_scores[:number]  # Get top 10 recommendations including the closest match\n",
    "\n",
    "    book_indices = [i[0] for i in sim_scores]\n",
    "    recommendations = df.iloc[book_indices].to_dict(orient='records')\n",
    "\n",
    "    # Convert ObjectId fields to string\n",
    "    for rec in recommendations:\n",
    "        for key in rec.keys():\n",
    "            rec[key] = convert_objectid_to_str(rec[key])\n",
    "\n",
    "    return recommendations\n",
    "\n",
    "@app.route('/recommend', methods=['POST'])\n",
    "def recommend():\n",
    "    data = request.get_json()\n",
    "    keyword = data.get('keyword', '')\n",
    "    number = data.get('number', '')\n",
    "    recommendations = get_recommendations(keyword,number)\n",
    "    return jsonify(recommendations)  # Return full book info in JSON format\n",
    "\n",
    "if __name__ == '__main__':\n",
    "    app.run(port=5000)\n"
   ]
  }
 ],
 "metadata": {
  "kernelspec": {
   "display_name": "Python 3",
   "language": "python",
   "name": "python3"
  },
  "language_info": {
   "codemirror_mode": {
    "name": "ipython",
    "version": 3
   },
   "file_extension": ".py",
   "mimetype": "text/x-python",
   "name": "python",
   "nbconvert_exporter": "python",
   "pygments_lexer": "ipython3",
   "version": "3.12.2"
  }
 },
 "nbformat": 4,
 "nbformat_minor": 2
}
